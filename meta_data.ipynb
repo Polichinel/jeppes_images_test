{
 "cells": [
  {
   "cell_type": "code",
   "execution_count": 13,
   "source": [
    "# use pytorch_env\n",
    "import os\n",
    "import iptcinfo3\n",
    "from iptcinfo3 import IPTCInfo\n",
    "from PIL import Image\n",
    "import re\n",
    "import numpy as np\n",
    "\n",
    "from utils_bodies import get_meta_keys, get_IPTC_data, sample_rand_imgs\n"
   ],
   "outputs": [],
   "metadata": {}
  },
  {
   "cell_type": "code",
   "execution_count": 14,
   "source": [
    "path = '/home/simon/Documents/Bodies/data/jeppe/images'\n",
    "dict_keys = get_meta_keys()"
   ],
   "outputs": [],
   "metadata": {}
  },
  {
   "cell_type": "code",
   "execution_count": 15,
   "source": [
    "sample_rand_imgs(path, n = 4)"
   ],
   "outputs": [
    {
     "output_type": "stream",
     "name": "stdout",
     "text": [
      "/home/simon/Documents/Bodies/data/jeppe/images/JS30083.jpg\n",
      "key: date created, info: b'20050622'\n",
      "\n",
      "key: time created, info: b'181957+0300'\n",
      "\n",
      "key: by-line, info: b'Johan Spanner'\n",
      "\n",
      "key: city, info: b'Karabilah'\n",
      "\n",
      "key: province/state, info: b'Anbar'\n",
      "\n",
      "key: country/primary location name, info: b'Iraq'\n",
      "\n",
      "key: headline, info: b'Jihad manual'\n",
      "\n",
      "key: credit, info: b'Polaris'\n",
      "\n",
      "key: copyright notice, info: b'Johan Spanner/Polaris Images'\n",
      "\n",
      "key: caption/abstract, info: b\"A so-called Jihad manual was found during Operation Spear in al Anbar province.\\rThe 574-page book is edited and compiled from classical Arabic writing as well as excerpts from the Koran, by Abdul Rahman al-Ali. It is titled 'Discourses from the Philosophy of Jihad' and is published in its first edition in 2005.\"\n",
      "\n",
      "key: custom1, info: b'Spanner'\n",
      "\n",
      "key: custom2, info: b'Raw'\n",
      "\n",
      "key: custom3, info: b'2005'\n",
      "\n",
      "key: custom4, info: b'DSC_6887.JPG'\n",
      "\n",
      "/home/simon/Documents/Bodies/data/jeppe/images/JS125055.jpg\n",
      "key: date created, info: b'20090127'\n",
      "\n",
      "key: time created, info: b'121845'\n",
      "\n",
      "key: custom1, info: b'Spanner'\n",
      "\n",
      "key: custom2, info: b'Raw'\n",
      "\n",
      "key: custom3, info: b'2009'\n",
      "\n",
      "key: custom4, info: b'IMG_6190.CR2'\n",
      "\n",
      "/home/simon/Documents/Bodies/data/jeppe/images/JS133946.jpg\n",
      "key: date created, info: b'20090826'\n",
      "\n",
      "key: time created, info: b'165754'\n",
      "\n",
      "key: custom1, info: b'Spanner'\n",
      "\n",
      "key: custom2, info: b'Raw'\n",
      "\n",
      "key: custom3, info: b'2009'\n",
      "\n",
      "key: custom4, info: b'IMG_9376.CR2'\n",
      "\n",
      "/home/simon/Documents/Bodies/data/jeppe/images/JS88585.jpg\n",
      "key: date created, info: b'20070729'\n",
      "\n",
      "key: time created, info: b'183946'\n",
      "\n",
      "key: custom1, info: b'Spanner'\n",
      "\n",
      "key: custom2, info: b'Raw'\n",
      "\n",
      "key: custom3, info: b'2007'\n",
      "\n",
      "key: custom4, info: b'DSC_2457.JPG'\n",
      "\n"
     ]
    }
   ],
   "metadata": {}
  }
 ],
 "metadata": {
  "orig_nbformat": 4,
  "language_info": {
   "name": "python",
   "version": "3.8.10",
   "mimetype": "text/x-python",
   "codemirror_mode": {
    "name": "ipython",
    "version": 3
   },
   "pygments_lexer": "ipython3",
   "nbconvert_exporter": "python",
   "file_extension": ".py"
  },
  "kernelspec": {
   "name": "python3",
   "display_name": "Python 3.8.10 64-bit ('pytorch_env': conda)"
  },
  "interpreter": {
   "hash": "75c7d75b569136f34c43ea04f7afadbcc4da5fe88f8aa24f803d6345aeeda121"
  }
 },
 "nbformat": 4,
 "nbformat_minor": 2
}