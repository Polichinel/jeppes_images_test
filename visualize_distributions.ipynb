{
 "cells": [
  {
   "cell_type": "markdown",
   "source": [
    "need entries in the df for the metadata.\n",
    "\n",
    "what about making a utils script..."
   ],
   "metadata": {}
  },
  {
   "cell_type": "code",
   "execution_count": 6,
   "source": [
    "# use pytorch_env\n",
    "\n",
    "import os\n",
    "\n",
    "import numpy as np\n",
    "import pandas as pd\n",
    "import seaborn as sns\n",
    "\n",
    "import cv2\n",
    "import matplotlib.pyplot as plt\n",
    "from matplotlib.patches import Rectangle\n",
    "\n",
    "import pickle\n",
    "\n",
    "from utils_bodies import get_meta_keys"
   ],
   "outputs": [],
   "metadata": {}
  },
  {
   "cell_type": "code",
   "execution_count": 2,
   "source": [
    "pkl_file = open('df.pkl', 'rb')\n",
    "df = pickle.load(pkl_file)\n",
    "pkl_file.close()"
   ],
   "outputs": [],
   "metadata": {}
  },
  {
   "cell_type": "code",
   "execution_count": 4,
   "source": [
    "df.head()"
   ],
   "outputs": [
    {
     "output_type": "execute_result",
     "data": {
      "text/plain": [
       "    img_id feature    xmin    xmax   ymin    ymax   width  height  depth\n",
       "0  JS33851  person  1867.0  4024.0    1.0  2432.0  4024.0  2648.0      3\n",
       "1  JS33851   adult  1865.0  4022.0    1.0  2432.0  4024.0  2648.0      3\n",
       "2  JS33851    male  1863.0  4020.0    1.0  2432.0  4024.0  2648.0      3\n",
       "3  JS16121  person  1548.0  2317.0  429.0  1164.0  3008.0  1960.0      3\n",
       "4  JS16121    male  1548.0  2327.0  412.0  1161.0  3008.0  1960.0      3"
      ],
      "text/html": [
       "<div>\n",
       "<style scoped>\n",
       "    .dataframe tbody tr th:only-of-type {\n",
       "        vertical-align: middle;\n",
       "    }\n",
       "\n",
       "    .dataframe tbody tr th {\n",
       "        vertical-align: top;\n",
       "    }\n",
       "\n",
       "    .dataframe thead th {\n",
       "        text-align: right;\n",
       "    }\n",
       "</style>\n",
       "<table border=\"1\" class=\"dataframe\">\n",
       "  <thead>\n",
       "    <tr style=\"text-align: right;\">\n",
       "      <th></th>\n",
       "      <th>img_id</th>\n",
       "      <th>feature</th>\n",
       "      <th>xmin</th>\n",
       "      <th>xmax</th>\n",
       "      <th>ymin</th>\n",
       "      <th>ymax</th>\n",
       "      <th>width</th>\n",
       "      <th>height</th>\n",
       "      <th>depth</th>\n",
       "    </tr>\n",
       "  </thead>\n",
       "  <tbody>\n",
       "    <tr>\n",
       "      <th>0</th>\n",
       "      <td>JS33851</td>\n",
       "      <td>person</td>\n",
       "      <td>1867.0</td>\n",
       "      <td>4024.0</td>\n",
       "      <td>1.0</td>\n",
       "      <td>2432.0</td>\n",
       "      <td>4024.0</td>\n",
       "      <td>2648.0</td>\n",
       "      <td>3</td>\n",
       "    </tr>\n",
       "    <tr>\n",
       "      <th>1</th>\n",
       "      <td>JS33851</td>\n",
       "      <td>adult</td>\n",
       "      <td>1865.0</td>\n",
       "      <td>4022.0</td>\n",
       "      <td>1.0</td>\n",
       "      <td>2432.0</td>\n",
       "      <td>4024.0</td>\n",
       "      <td>2648.0</td>\n",
       "      <td>3</td>\n",
       "    </tr>\n",
       "    <tr>\n",
       "      <th>2</th>\n",
       "      <td>JS33851</td>\n",
       "      <td>male</td>\n",
       "      <td>1863.0</td>\n",
       "      <td>4020.0</td>\n",
       "      <td>1.0</td>\n",
       "      <td>2432.0</td>\n",
       "      <td>4024.0</td>\n",
       "      <td>2648.0</td>\n",
       "      <td>3</td>\n",
       "    </tr>\n",
       "    <tr>\n",
       "      <th>3</th>\n",
       "      <td>JS16121</td>\n",
       "      <td>person</td>\n",
       "      <td>1548.0</td>\n",
       "      <td>2317.0</td>\n",
       "      <td>429.0</td>\n",
       "      <td>1164.0</td>\n",
       "      <td>3008.0</td>\n",
       "      <td>1960.0</td>\n",
       "      <td>3</td>\n",
       "    </tr>\n",
       "    <tr>\n",
       "      <th>4</th>\n",
       "      <td>JS16121</td>\n",
       "      <td>male</td>\n",
       "      <td>1548.0</td>\n",
       "      <td>2327.0</td>\n",
       "      <td>412.0</td>\n",
       "      <td>1161.0</td>\n",
       "      <td>3008.0</td>\n",
       "      <td>1960.0</td>\n",
       "      <td>3</td>\n",
       "    </tr>\n",
       "  </tbody>\n",
       "</table>\n",
       "</div>"
      ]
     },
     "metadata": {},
     "execution_count": 4
    }
   ],
   "metadata": {}
  },
  {
   "cell_type": "code",
   "execution_count": 7,
   "source": [
    "path = '/home/simon/Documents/Bodies/data/jeppe/images'\n",
    "dict_keys = get_meta_keys()"
   ],
   "outputs": [],
   "metadata": {}
  },
  {
   "cell_type": "code",
   "execution_count": null,
   "source": [],
   "outputs": [],
   "metadata": {}
  },
  {
   "cell_type": "code",
   "execution_count": null,
   "source": [],
   "outputs": [],
   "metadata": {}
  },
  {
   "cell_type": "code",
   "execution_count": null,
   "source": [],
   "outputs": [],
   "metadata": {}
  },
  {
   "cell_type": "code",
   "execution_count": null,
   "source": [],
   "outputs": [],
   "metadata": {}
  },
  {
   "cell_type": "code",
   "execution_count": null,
   "source": [],
   "outputs": [],
   "metadata": {}
  },
  {
   "cell_type": "code",
   "execution_count": null,
   "source": [],
   "outputs": [],
   "metadata": {}
  },
  {
   "cell_type": "code",
   "execution_count": null,
   "source": [],
   "outputs": [],
   "metadata": {}
  }
 ],
 "metadata": {
  "orig_nbformat": 4,
  "language_info": {
   "name": "python",
   "version": "3.8.10",
   "mimetype": "text/x-python",
   "codemirror_mode": {
    "name": "ipython",
    "version": 3
   },
   "pygments_lexer": "ipython3",
   "nbconvert_exporter": "python",
   "file_extension": ".py"
  },
  "kernelspec": {
   "name": "python3",
   "display_name": "Python 3.8.10 64-bit ('pytorch_env': conda)"
  },
  "interpreter": {
   "hash": "75c7d75b569136f34c43ea04f7afadbcc4da5fe88f8aa24f803d6345aeeda121"
  }
 },
 "nbformat": 4,
 "nbformat_minor": 2
}